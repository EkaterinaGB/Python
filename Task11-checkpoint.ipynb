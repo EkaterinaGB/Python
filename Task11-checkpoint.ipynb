{
 "cells": [
  {
   "cell_type": "markdown",
   "id": "722b06d8",
   "metadata": {},
   "source": [
    "# f(x) = 0.6x^3+5.5x^2+10x -5\n",
    "\n",
    "1. Определить корни\n",
    "\n",
    "2. Найти интервалы, на которых функция возрастает\n",
    "\n",
    "3. Найти интервалы, на которых функция убывает\n",
    "\n",
    "4. Построить график\n",
    "\n",
    "5. Вычислить вершину\n",
    "\n",
    "6. Определить промежутки, на котором f > 0\n",
    "\n",
    "7. Определить промежутки, на котором f < 0"
   ]
  },
  {
   "cell_type": "code",
   "execution_count": 1,
   "id": "0a2d7ab6",
   "metadata": {},
   "outputs": [
    {
     "name": "stdout",
     "output_type": "stream",
     "text": [
      "Requirement already satisfied: matplotlib in c:\\users\\екатерина\\appdata\\local\\programs\\python\\python310\\lib\\site-packages (3.6.3)\n",
      "Requirement already satisfied: kiwisolver>=1.0.1 in c:\\users\\екатерина\\appdata\\local\\programs\\python\\python310\\lib\\site-packages (from matplotlib) (1.4.4)\n",
      "Requirement already satisfied: packaging>=20.0 in c:\\users\\екатерина\\appdata\\local\\programs\\python\\python310\\lib\\site-packages (from matplotlib) (23.0)\n",
      "Requirement already satisfied: pillow>=6.2.0 in c:\\users\\екатерина\\appdata\\local\\programs\\python\\python310\\lib\\site-packages (from matplotlib) (9.4.0)\n",
      "Requirement already satisfied: python-dateutil>=2.7 in c:\\users\\екатерина\\appdata\\local\\programs\\python\\python310\\lib\\site-packages (from matplotlib) (2.8.2)\n",
      "Requirement already satisfied: numpy>=1.19 in c:\\users\\екатерина\\appdata\\local\\programs\\python\\python310\\lib\\site-packages (from matplotlib) (1.24.1)\n",
      "Requirement already satisfied: contourpy>=1.0.1 in c:\\users\\екатерина\\appdata\\local\\programs\\python\\python310\\lib\\site-packages (from matplotlib) (1.0.7)\n",
      "Requirement already satisfied: fonttools>=4.22.0 in c:\\users\\екатерина\\appdata\\local\\programs\\python\\python310\\lib\\site-packages (from matplotlib) (4.38.0)\n",
      "Requirement already satisfied: cycler>=0.10 in c:\\users\\екатерина\\appdata\\local\\programs\\python\\python310\\lib\\site-packages (from matplotlib) (0.11.0)\n",
      "Requirement already satisfied: pyparsing>=2.2.1 in c:\\users\\екатерина\\appdata\\local\\programs\\python\\python310\\lib\\site-packages (from matplotlib) (3.0.9)\n",
      "Requirement already satisfied: six>=1.5 in c:\\users\\екатерина\\appdata\\local\\programs\\python\\python310\\lib\\site-packages (from python-dateutil>=2.7->matplotlib) (1.16.0)\n"
     ]
    },
    {
     "name": "stderr",
     "output_type": "stream",
     "text": [
      "WARNING: You are using pip version 22.0.4; however, version 22.3.1 is available.\n",
      "You should consider upgrading via the 'C:\\Users\\Екатерина\\AppData\\Local\\Programs\\Python\\Python310\\python.exe -m pip install --upgrade pip' command.\n"
     ]
    }
   ],
   "source": [
    "!pip install matplotlib"
   ]
  },
  {
   "cell_type": "code",
   "execution_count": 2,
   "id": "fb574aef",
   "metadata": {},
   "outputs": [
    {
     "name": "stdout",
     "output_type": "stream",
     "text": [
      "-95.0\n"
     ]
    }
   ],
   "source": [
    "from numpy.polynomial import Polynomial\n",
    "#1.8x**2+5.5x+10\n",
    "discr3 = 4*5.5**2 - 12 * 1.8 * 10\n",
    "x_ex_1 = -2*5.5\n",
    "print(discr3)"
   ]
  },
  {
   "cell_type": "code",
   "execution_count": 3,
   "id": "9479d9ba",
   "metadata": {},
   "outputs": [
    {
     "name": "stdout",
     "output_type": "stream",
     "text": [
      "[-6.32174537 -3.25046383  0.40554254]\n"
     ]
    }
   ],
   "source": [
    "import math\n",
    "from numpy.polynomial import Polynomial\n",
    "x = Polynomial([-5,10,5.5,0.6])\n",
    "print(x.roots())"
   ]
  },
  {
   "cell_type": "code",
   "execution_count": 5,
   "id": "dda61a82",
   "metadata": {},
   "outputs": [
    {
     "data": {
      "image/png": "[encoded data removed]",
      "text/plain": [
       "<Figure size 640x480 with 1 Axes>"
      ]
     },
     "metadata": {},
     "output_type": "display_data"
    }
   ],
   "source": [
    "import numpy as np\n",
    "import matplotlib.pyplot as plt\n",
    "x = np.linspace(-9, 4,40)\n",
    "y = 0.6*x**3+5.5*x**2 + 10*x - 5  \n",
    "\n",
    "fig, ax = plt.subplots()      \n",
    "ax.plot(x, y, color=\"b\", label=\"y'(x)\") \n",
    "ax.plot(np.linspace(-9,4,40), x*0, color = \"black\")\n",
    "ax.plot(y*0, 0.6*x**3+5.5*x**2 + 10*x - 5 , color = \"black\")\n",
    "ax.scatter(-6.32174537, 0)\n",
    "ax.scatter(-3.25046383, 0)\n",
    "ax.scatter(0.40554254, 0)\n",
    "ax.scatter(-5, 7.5)\n",
    "ax.scatter(-1.111, -10.144)\n",
    "ax.set_xlabel(\"x\")                              \n",
    "ax.set_ylabel(\"y\")                              \n",
    "ax.legend()   \n",
    "\n",
    "\n",
    "plt.show()\n",
    "\n",
    "#Корни уравнения: [-6.32174537 -3.25046383  0.40554254]\n",
    "#Функция возрастает на интервалах (-∞; -5) , (-1.111; +∞)\n",
    "#Функция убывает на интервале (-5, -1.111)\n",
    "#Вершины: (-5, 7.5), (-1.111, -10.144)\n",
    "#Промежутки, на котором f > 0 . При х>0.40554254\n",
    "#Промежутки, на котором f < 0 При х<0.40554254"
   ]
  },
  {
   "cell_type": "code",
   "execution_count": 6,
   "id": "ed73354c",
   "metadata": {},
   "outputs": [
    {
     "name": "stdout",
     "output_type": "stream",
     "text": [
      "Reinitialized existing Git repository in C:/Users/Р•РєР°С‚РµСЂРёРЅР°/Desktop/Python/.git/\n"
     ]
    }
   ],
   "source": [
    "!git init"
   ]
  },
  {
   "cell_type": "code",
   "execution_count": 7,
   "id": "cd1ec749",
   "metadata": {},
   "outputs": [
    {
     "name": "stderr",
     "output_type": "stream",
     "text": [
      "fatal: pathspec 'Task' did not match any files\n"
     ]
    }
   ],
   "source": [
    "!git add Task 11.ipynb"
   ]
  }
 ],
 "metadata": {
  "kernelspec": {
   "display_name": "Python 3 (ipykernel)",
   "language": "python",
   "name": "python3"
  },
  "language_info": {
   "codemirror_mode": {
    "name": "ipython",
    "version": 3
   },
   "file_extension": ".py",
   "mimetype": "text/x-python",
   "name": "python",
   "nbconvert_exporter": "python",
   "pygments_lexer": "ipython3",
   "version": "3.10.4"
  }
 },
 "nbformat": 4,
 "nbformat_minor": 5
}
